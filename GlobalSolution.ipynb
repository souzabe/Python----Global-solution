{
 "cells": [
  {
   "cell_type": "code",
   "execution_count": 30,
   "metadata": {},
   "outputs": [
    {
     "name": "stdout",
     "output_type": "stream",
     "text": [
      "Por favor digite uma opção valida\n"
     ]
    }
   ],
   "source": [
    "def projeção_da_concentração_de_CO2():\n",
    "    # Função para mostrar em forma de grafico a concentração de CO2 e fazer a projeção se não houver nenhuma mudança nós proximos tempos\n",
    "    \n",
    "    # Importando as bibliotecas que usaremos para fazer os graficos\n",
    "    import matplotlib.pyplot as plt\n",
    "    from datetime import datetime, timedelta\n",
    "    \n",
    "    # Inserindo o banco de dados\n",
    "    datas = [\"2023-01-01\", \"2023-02-01\", \"2023-03-01\", \"2023-04-01\", \"2023-05-01\", \"2023-06-01\", \n",
    "            \"2023-07-01\", \"2023-08-01\", \"2023-09-01\", \"2023-10-01\", \"2023-11-01\", \"2023-12-01\", \n",
    "            \"2024-01-01\", \"2024-02-01\", \"2024-03-01\", \"2024-04-01\", \"2024-05-01\", \"2024-06-01\"]\n",
    "    concentracao_CO2 = [410, 412, 415, 417, 420, 422, 425, 428, 430, 432, 435, 438, 440, 442, 445, 448, 450, 452]\n",
    "\n",
    "    # Convertendo as datas para o formato datetime\n",
    "    datas_formatadas = [datetime.strptime(data, \"%Y-%m-%d\") for data in datas]\n",
    "\n",
    "    # Determinando o padrão de aumento\n",
    "    aumento_mensal = (concentracao_CO2[-1] - concentracao_CO2[0]) / len(concentracao_CO2)\n",
    "\n",
    "    # Projetando concentração de CO2 para os próximos meses\n",
    "    projecao_concentracao_CO2 = []\n",
    "    for i in range(1, 7):  # Projeção dos próximos 6 meses\n",
    "        proxima_data = datas_formatadas[-1] + timedelta(days=30*i)\n",
    "        proxima_concentracao = concentracao_CO2[-1] + aumento_mensal * i\n",
    "        projecao_concentracao_CO2.append((proxima_data, proxima_concentracao))\n",
    "\n",
    "    # Plotando os dados e fazendo a projeção dos mesmos\n",
    "    plt.figure(figsize=(10, 6))\n",
    "    plt.plot(datas_formatadas, concentracao_CO2, marker='o', color='b', linestyle='-', label='Dados Históricos')\n",
    "    plt.plot(*zip(*projecao_concentracao_CO2), marker='o', color='r', linestyle='--', label='Projeção Futura')\n",
    "    plt.title('Projeção da Concentração de CO2 nos Oceanos')\n",
    "    plt.xlabel('Data')\n",
    "    plt.ylabel('Concentração de CO2 (ppm)')\n",
    "    plt.grid(True)\n",
    "    plt.tight_layout()\n",
    "    plt.legend()\n",
    "    plt.show()\n",
    "\n",
    "\n",
    "def concentração_de_CO2():\n",
    "    # Função para mostrar em forma de grafico a concentração de CO2\n",
    "    \n",
    "    # Importando as bibliotecas que usaremos para fazer os graficos\n",
    "    import matplotlib.pyplot as plt\n",
    "    from datetime import datetime\n",
    "\n",
    "    # Inserindo o banco de dados\n",
    "    datas = [\"2023-01-01\", \"2023-02-01\", \"2023-03-01\", \"2023-04-01\", \"2023-05-01\", \"2023-06-01\", \n",
    "            \"2023-07-01\", \"2023-08-01\", \"2023-09-01\", \"2023-10-01\", \"2023-11-01\", \"2023-12-01\", \n",
    "            \"2024-01-01\", \"2024-02-01\", \"2024-03-01\", \"2024-04-01\", \"2024-05-01\", \"2024-06-01\"]\n",
    "    concentracao_CO2 = [410, 412, 415, 417, 420, 422, 425, 428, 430, 432, 435, 438, 440, 442, 445, 448, 450, 452]\n",
    "\n",
    "    # Convertendo as datas para o formato datetime\n",
    "    datas_formatadas = [datetime.strptime(data, \"%Y-%m-%d\") for data in datas]\n",
    "\n",
    "    # Plotando os dados\n",
    "    plt.figure(figsize=(10, 6))\n",
    "    plt.plot(datas_formatadas, concentracao_CO2, marker='o', color='b', linestyle='-')\n",
    "    plt.title('Concentração de CO2 nos Oceanos')\n",
    "    plt.xlabel('Data')\n",
    "    plt.ylabel('Concentração de CO2 )')\n",
    "    plt.grid(True)\n",
    "    plt.xticks(rotation=0)\n",
    "    plt.tight_layout()\n",
    "\n",
    "    plt.show()\n",
    "\n",
    "\n",
    "escolha_do_usuario = int(input(\"1. Digite 1 caso queira mostrar apenas os graficos com os dados ja existentes 2. Digite 2 caso deseje receber tambem uma projeção futura caso não haja nenhuma mudança \"))\n",
    "\n",
    "if escolha_do_usuario == 1:\n",
    "    print(concentração_de_CO2())\n",
    "\n",
    "elif escolha_do_usuario == 2:\n",
    "    print(projeção_da_concentração_de_CO2())\n",
    "\n",
    "else:\n",
    "    print(\"Por favor digite uma opção valida\")\n"
   ]
  }
 ],
 "metadata": {
  "kernelspec": {
   "display_name": "Python 3",
   "language": "python",
   "name": "python3"
  },
  "language_info": {
   "codemirror_mode": {
    "name": "ipython",
    "version": 3
   },
   "file_extension": ".py",
   "mimetype": "text/x-python",
   "name": "python",
   "nbconvert_exporter": "python",
   "pygments_lexer": "ipython3",
   "version": "3.11.9"
  }
 },
 "nbformat": 4,
 "nbformat_minor": 2
}
